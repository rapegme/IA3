{
  "nbformat": 4,
  "nbformat_minor": 0,
  "metadata": {
    "colab": {
      "name": "Untitled0.ipynb",
      "provenance": [],
      "collapsed_sections": [],
      "authorship_tag": "ABX9TyPrW1yYSGQd/wjlSbZuJjol",
      "include_colab_link": true
    },
    "kernelspec": {
      "name": "python3",
      "display_name": "Python 3"
    }
  },
  "cells": [
    {
      "cell_type": "markdown",
      "metadata": {
        "id": "view-in-github",
        "colab_type": "text"
      },
      "source": [
        "<a href=\"https://colab.research.google.com/github/rapegme/IA3/blob/main/Untitled0.ipynb\" target=\"_parent\"><img src=\"https://colab.research.google.com/assets/colab-badge.svg\" alt=\"Open In Colab\"/></a>"
      ]
    },
    {
      "cell_type": "code",
      "metadata": {
        "id": "rFREXP3OoAn3"
      },
      "source": [
        "class Apple:\n",
        "  def __init__(self, color, peso, tipo):\n",
        "    self.color = color\n",
        "    self.peso = peso\n",
        "    self.tipo = tipo\n",
        "\n",
        "apple1 = Apple(color=\"Negro\", peso=200, tipo=\"Cuadrado\")"
      ],
      "execution_count": 1,
      "outputs": []
    },
    {
      "cell_type": "code",
      "metadata": {
        "id": "nZENy1tt8xp6",
        "outputId": "99462275-b957-4de6-d632-132655660647",
        "colab": {
          "base_uri": "https://localhost:8080/",
          "height": 35
        }
      },
      "source": [
        "apple1.tipo"
      ],
      "execution_count": 2,
      "outputs": [
        {
          "output_type": "execute_result",
          "data": {
            "application/vnd.google.colaboratory.intrinsic+json": {
              "type": "string"
            },
            "text/plain": [
              "'Cuadrado'"
            ]
          },
          "metadata": {
            "tags": []
          },
          "execution_count": 2
        }
      ]
    },
    {
      "cell_type": "code",
      "metadata": {
        "id": "hEq-72X68zQ_"
      },
      "source": [
        "class Apple:\n",
        "  def __init__(self, color, peso, tipo):\n",
        "    self.color = color\n",
        "    self.peso = peso\n",
        "    self.tipo = tipo\n",
        "\n",
        "  def describe_color(self):\n",
        "    print(f\"El color de la manzana es: {self.color}\")\n",
        "\n",
        "  def describe_tipo(self):\n",
        "    print(f\"El tipo de la manzana es: {self.tipo}\")\n",
        "\n",
        "  def describe_peso(self):\n",
        "    print(f\"El peso de la manzana es: {self.peso}\")"
      ],
      "execution_count": 3,
      "outputs": []
    },
    {
      "cell_type": "code",
      "metadata": {
        "id": "yVhIoXt49Bs4"
      },
      "source": [
        "class Apple:\n",
        "  def __init__(self, color, peso, tipo):\n",
        "    self.color = color\n",
        "    self.peso = peso\n",
        "    self.tipo = tipo\n",
        "\n",
        "  def _describe_color(self):\n",
        "    print(f\"El color de la manzana es: {self.color}\")\n",
        "\n",
        "  def _describe_tipo(self):\n",
        "    print(f\"El tipo de la manzana es: {self.tipo}\")\n",
        "\n",
        "  def _describe_peso(self):\n",
        "    print(f\"El peso de la manzana es: {self.peso} kilos\")\n",
        "\n",
        "  def describe_manzana(self):\n",
        "    self._describe_color() \n",
        "    self._describe_peso() \n",
        "    self._describe_tipo()"
      ],
      "execution_count": 17,
      "outputs": []
    },
    {
      "cell_type": "code",
      "metadata": {
        "id": "tJE1Dflz9HGQ",
        "outputId": "e725af65-d24d-420b-a2a9-01c9f9f60f27",
        "colab": {
          "base_uri": "https://localhost:8080/",
          "height": 68
        }
      },
      "source": [
        "apple1 = Apple(color=\"Roja\", peso=200, tipo=\"Golden\")\n",
        "apple1.describe_manzana()"
      ],
      "execution_count": 18,
      "outputs": [
        {
          "output_type": "stream",
          "text": [
            "El color de la manzana es: Roja\n",
            "El peso de la manzana es: 200 kilos\n",
            "El tipo de la manzana es: Golden\n"
          ],
          "name": "stdout"
        }
      ]
    },
    {
      "cell_type": "code",
      "metadata": {
        "id": "CDfdd5gIA-9W"
      },
      "source": [
        "class Basket:\n",
        "\n",
        "  def __init__(self, manzanas):\n",
        "     self.cesta = []\n",
        "    if (isinstance(manzanas, list)):\n",
        "      for manzana in manzanas:\n",
        "        if (isinstance(manzana, Apple)):\n",
        "          self.cesta.append(manzana)\n",
        "    else:\n",
        "      raise Exception(\"Variable manzanas no es de tipo list\")\n",
        "    \n",
        "  def describe_basket(self):\n",
        "    print(f\"Hay {len(self.cesta)} manzanas en la cesta\")\n",
        "    for manzanas in self.cesta:\n",
        "      manzanas.describe_manzana();"
      ],
      "execution_count": 50,
      "outputs": []
    },
    {
      "cell_type": "code",
      "metadata": {
        "id": "5iryzeLYBmuo",
        "outputId": "0e49aa1a-5e64-480b-e232-9e29fad54534",
        "colab": {
          "base_uri": "https://localhost:8080/",
          "height": 187
        }
      },
      "source": [
        "apple1 = Apple(color=\"Roja\", peso=200, tipo=\"Golden\")\n",
        "apple2 = Apple(color=\"Amarillo\", peso=10, tipo=\"Golden\")\n",
        "apple3 = Apple(color=\"Verde\", peso=50, tipo=\"Golden\")\n",
        "cesta_manzanas = [apple1, apple2, apple3]\n",
        "\n",
        "basket1 = Basket(cesta_manzanas)\n",
        "\n",
        "basket1.describe_basket()"
      ],
      "execution_count": 51,
      "outputs": [
        {
          "output_type": "stream",
          "text": [
            "Hay 3 manzanas en la cesta\n",
            "El color de la manzana es: Roja\n",
            "El peso de la manzana es: 200 kilos\n",
            "El tipo de la manzana es: Golden\n",
            "El color de la manzana es: Amarillo\n",
            "El peso de la manzana es: 10 kilos\n",
            "El tipo de la manzana es: Golden\n",
            "El color de la manzana es: Verde\n",
            "El peso de la manzana es: 50 kilos\n",
            "El tipo de la manzana es: Golden\n"
          ],
          "name": "stdout"
        }
      ]
    },
    {
      "cell_type": "code",
      "metadata": {
        "id": "GkSJ31c0Br1Z"
      },
      "source": [
        "class Basket:\n",
        "\n",
        "  def __init__(self, manzanas):\n",
        "    self.cesta = []\n",
        "    if (isinstance(manzanas, list)):\n",
        "      for manzana in manzanas:\n",
        "        if (isinstance(manzana, Apple)):\n",
        "          self.cesta.append(manzana)\n",
        "    else:\n",
        "      raise Exception(\"Variable manzanas no es de tipo list\")\n",
        "    \n",
        "  def describe_basket(self):\n",
        "    print(f\"Hay {len(self.cesta)} manzanas en la cesta\")\n",
        "    for manzanas in self.cesta:\n",
        "      manzanas.describe_manzana();\n",
        "  \n",
        "  def comer_manzana(self):\n",
        "    self.cesta.pop()\n",
        "    print(f\"Nos hemos comido una buena manzana\")"
      ],
      "execution_count": 64,
      "outputs": []
    },
    {
      "cell_type": "code",
      "metadata": {
        "id": "xYSleuUYJG3l",
        "outputId": "bae110c3-1309-45d8-d30a-7e1744f96155",
        "colab": {
          "base_uri": "https://localhost:8080/",
          "height": 153
        }
      },
      "source": [
        "apple1 = Apple(color=\"Roja\", peso=200, tipo=\"Golden\")\n",
        "apple2 = Apple(color=\"Amarillo\", peso=10, tipo=\"Golden\")\n",
        "apple3 = Apple(color=\"Verde\", peso=50, tipo=\"Golden\")\n",
        "cesta_manzanas = [apple1, apple2, apple3]\n",
        "\n",
        "basket2 = Basket(cesta_manzanas)\n",
        "\n",
        "basket2.comer_manzana()\n",
        "\n",
        "basket2.describe_basket()"
      ],
      "execution_count": 67,
      "outputs": [
        {
          "output_type": "stream",
          "text": [
            "Nos hemos comido una buena manzana\n",
            "Hay 2 manzanas en la cesta\n",
            "El color de la manzana es: Roja\n",
            "El peso de la manzana es: 200 kilos\n",
            "El tipo de la manzana es: Golden\n",
            "El color de la manzana es: Amarillo\n",
            "El peso de la manzana es: 10 kilos\n",
            "El tipo de la manzana es: Golden\n"
          ],
          "name": "stdout"
        }
      ]
    },
    {
      "cell_type": "code",
      "metadata": {
        "id": "RXY1iKA2JMRK"
      },
      "source": [
        ""
      ],
      "execution_count": 65,
      "outputs": []
    }
  ]
}